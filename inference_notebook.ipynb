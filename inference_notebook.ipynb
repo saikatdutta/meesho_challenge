{
 "cells": [
  {
   "cell_type": "markdown",
   "id": "cc3c2563-5ecb-49bf-bda9-eabb28f32a30",
   "metadata": {},
   "source": [
    "# Run through all training data "
   ]
  },
  {
   "cell_type": "code",
   "execution_count": 1,
   "id": "d090bcc5-6cd9-403c-95e3-1625c13a520b",
   "metadata": {
    "tags": []
   },
   "outputs": [],
   "source": [
    "import json \n",
    "import pandas as pd \n",
    "import os\n",
    "\n",
    "os.environ['CUDA_VISIBLE_DEVICES'] = '1'\n",
    "\n",
    "with open('prompts.json') as f:\n",
    "    prompts = json.load(f)"
   ]
  },
  {
   "cell_type": "code",
   "execution_count": 2,
   "id": "f6eed073-87a8-4b25-8e9f-5f2ee66ea2d3",
   "metadata": {
    "tags": []
   },
   "outputs": [],
   "source": [
    "attr_df = pd.read_parquet('category_attributes.parquet')\n",
    "\n"
   ]
  },
  {
   "cell_type": "code",
   "execution_count": 3,
   "id": "998b2ec7-401c-437a-bd1a-87c522a65704",
   "metadata": {
    "tags": []
   },
   "outputs": [],
   "source": [
    "cat_attr_dict = {k:v for k,v in zip(attr_df['Category'].tolist(), attr_df['Attribute_list'].tolist())}"
   ]
  },
  {
   "cell_type": "code",
   "execution_count": 4,
   "id": "3bdf74ad-6adc-4d0b-b34f-d66b31624437",
   "metadata": {
    "tags": []
   },
   "outputs": [],
   "source": [
    "test_df = pd.read_csv('test_template.csv')"
   ]
  },
  {
   "cell_type": "code",
   "execution_count": 5,
   "id": "384466d3-31a4-4e3a-8ad3-e5df98d24436",
   "metadata": {},
   "outputs": [],
   "source": [
    "cat_list = attr_df['Category'].tolist()"
   ]
  },
  {
   "cell_type": "code",
   "execution_count": 6,
   "id": "e562f094-b992-4926-bf42-152c88c76ba2",
   "metadata": {},
   "outputs": [
    {
     "name": "stderr",
     "output_type": "stream",
     "text": [
      "/raid/biplab/saikat/miniconda3/envs/attr_clip/lib/python3.8/site-packages/transformers/tokenization_utils_base.py:1617: FutureWarning: `clean_up_tokenization_spaces` was not set. It will be set to `True` by default. This behavior will be deprecated in transformers v4.45, and will be then set to `False` by default. For more details check this issue: https://github.com/huggingface/transformers/issues/31884\n",
      "  warnings.warn(\n"
     ]
    }
   ],
   "source": [
    "from transformers import AutoModel, AutoProcessor\n",
    "\n",
    "processor = AutoProcessor.from_pretrained('patrickjohncyh/fashion-clip') \n",
    "model = AutoModel.from_pretrained('./clip-finetuned_patrick_b512_lowlowlr/checkpoint-8870/').cuda()\n"
   ]
  },
  {
   "cell_type": "markdown",
   "id": "435028ce-a2ec-44d6-ae49-43a5f89a3e5a",
   "metadata": {},
   "source": [
    "# Test "
   ]
  },
  {
   "cell_type": "code",
   "execution_count": 9,
   "id": "2bd59433-64d3-4cc6-9653-2bd0e70d7fd0",
   "metadata": {},
   "outputs": [
    {
     "name": "stderr",
     "output_type": "stream",
     "text": [
      "  3%|███▏                                                                                            | 1000/30205 [00:50<24:42, 19.69it/s]\n"
     ]
    }
   ],
   "source": [
    "from tqdm import tqdm \n",
    "import torch \n",
    "import numpy as np \n",
    "from PIL import Image\n",
    "import torch.nn.functional as F \n",
    "import time\n",
    "\n",
    "test_df_pred = test_df.copy(deep=True)\n",
    "cat_list = attr_df['Category'].tolist()\n",
    "\n",
    "total_time = 0 \n",
    "\n",
    "for i in tqdm(range(len(test_df))):\n",
    "\n",
    "    type = test_df.iloc[i,1]\n",
    "    model_id = cat_list.index(type)\n",
    "    attr_list = cat_attr_dict[type]\n",
    "\n",
    "\n",
    "    inputs_im = processor(images=Image.open('test_images/' + str(test_df.iloc[i,0]).zfill(6) + '.jpg'), return_tensors=\"pt\") \n",
    "    inputs_im['pixel_values'] = inputs_im['pixel_values'].cuda()\n",
    "\n",
    "    torch.cuda.synchronize()  \n",
    "    start_time = time.perf_counter()\n",
    "\n",
    "    with torch.no_grad():\n",
    "        im_feats = model.get_image_features(**inputs_im)\n",
    "        im_feats = F.normalize(im_feats, p=2, dim=-1)\n",
    "\n",
    "    torch.cuda.synchronize()  \n",
    "    end_time = time.perf_counter()\n",
    "\n",
    "    total_time += (end_time-start_time)\n",
    "    \n",
    "    for idx, attr in enumerate(attr_list):\n",
    "        \n",
    "        if attr == 'ocassion':\n",
    "            attr = 'occasion'\n",
    "        classes = list(prompts[type][attr].keys())\n",
    "        text_prompts = prompts[type][attr]\n",
    "        text_prompts_list = list(text_prompts.values())\n",
    "        \n",
    "        inputs = processor(text=text_prompts_list, return_tensors=\"pt\", padding=True)\n",
    "        for k in inputs.keys():\n",
    "            inputs[k] = inputs[k].cuda()\n",
    "\n",
    "        torch.cuda.synchronize()  \n",
    "        start_time = time.perf_counter()\n",
    "    \n",
    "        with torch.no_grad():\n",
    "            text_feats = model.get_text_features(**inputs)\n",
    "            text_feats = F.normalize(text_feats, p=2, dim=-1)\n",
    "\n",
    "        logits_per_image = im_feats @ text_feats.T\n",
    "        probs = logits_per_image.softmax(dim=1) # we can take the softmax to get the label probabilities\n",
    "        pred = classes[torch.argmax(probs)]\n",
    "\n",
    "        torch.cuda.synchronize()  \n",
    "        end_time = time.perf_counter()\n",
    "    \n",
    "        total_time += (end_time-start_time)\n",
    "\n",
    "        test_df_pred.loc[i, f'attr_{idx+1}'] = pred \n",
    "\n",
    "    if i==1000:\n",
    "        break"
   ]
  },
  {
   "cell_type": "code",
   "execution_count": 11,
   "id": "704b86e8-6fec-496f-8ff9-47e306bf502b",
   "metadata": {},
   "outputs": [
    {
     "name": "stdout",
     "output_type": "stream",
     "text": [
      "Inference time: 40.008846 ms\n"
     ]
    }
   ],
   "source": [
    "inference_time = 1000*total_time/1000\n",
    "print(f\"Inference time: {inference_time:.6f} ms\")\n"
   ]
  },
  {
   "cell_type": "code",
   "execution_count": 17,
   "id": "59f38be7-56c1-4f91-83e2-b22ee281afdb",
   "metadata": {},
   "outputs": [],
   "source": [
    "test_df_pred.to_csv('out.csv', index=None)\n"
   ]
  }
 ],
 "metadata": {
  "kernelspec": {
   "display_name": "Python 3 (ipykernel)",
   "language": "python",
   "name": "python3"
  },
  "language_info": {
   "codemirror_mode": {
    "name": "ipython",
    "version": 3
   },
   "file_extension": ".py",
   "mimetype": "text/x-python",
   "name": "python",
   "nbconvert_exporter": "python",
   "pygments_lexer": "ipython3",
   "version": "3.8.20"
  }
 },
 "nbformat": 4,
 "nbformat_minor": 5
}
